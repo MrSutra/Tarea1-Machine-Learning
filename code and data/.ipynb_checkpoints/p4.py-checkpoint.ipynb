{
 "cells": [
  {
   "cell_type": "markdown",
   "metadata": {},
   "source": [
    "# Pregunta 4\n",
    "Primero cargamos los módulos de python que nos permitirán trabajar"
   ]
  },
  {
   "cell_type": "code",
   "execution_count": 1,
   "metadata": {
    "collapsed": true
   },
   "outputs": [],
   "source": [
    "import pandas as pd\n",
    "import numpy as np\n",
    "import sklearn.linear_model as lm\n",
    "from scipy.sparse import csr_matrix\n",
    "from scipy.io import mmread\n",
    "import warnings\n",
    "import matplotlib.pyplot as plt\n",
    "warnings.filterwarnings(\"ignore\")"
   ]
  },
  {
   "cell_type": "markdown",
   "metadata": {},
   "source": [
    "Cargamos el dataset de entrenamiento, validación y testeo. Se utiliza el tipo de matrices sparse por su alto contenido de celdas nulas. Este tipo de matrices permiten utilizar algoritmos especiales para agilizar las operaciones que se hacen con ellas."
   ]
  },
  {
   "cell_type": "code",
   "execution_count": 2,
   "metadata": {
    "collapsed": true
   },
   "outputs": [],
   "source": [
    "# training set\n",
    "X_train = csr_matrix(mmread('train.x.mm'))\n",
    "y_train = np.loadtxt('train.y.dat')\n",
    "# test set\n",
    "X_test = csr_matrix(mmread('test.x.mm'))\n",
    "y_test = np.loadtxt('test.y.dat')\n",
    "# CV\n",
    "X_cv = csr_matrix(mmread('dev.x.mm'))\n",
    "y_cv = np.loadtxt('dev.y.dat')"
   ]
  },
  {
   "cell_type": "markdown",
   "metadata": {},
   "source": [
    "Cargando los datos de entrenamiento se procede a generar el modelo de regresión lineal obteniendo R2 o coeficiente de determinación"
   ]
  },
  {
   "cell_type": "code",
   "execution_count": 3,
   "metadata": {
    "collapsed": false
   },
   "outputs": [
    {
     "name": "stdout",
     "output_type": "stream",
     "text": [
      "Regresion lineal\n",
      "CV:  0.612862766741 \n",
      "Test:  0.59031488104\n"
     ]
    }
   ],
   "source": [
    "model = lm.LinearRegression(fit_intercept = False)\n",
    "model.fit(X_train,y_train)\n",
    "print \"Regresion lineal\\nCV: \",model.score(X_cv,y_cv),\"\\nTest: \",model.score(X_test, y_test)"
   ]
  },
  {
   "cell_type": "markdown",
   "metadata": {
    "collapsed": true
   },
   "source": [
    "Regresión lineal tiene un $R^2=0.612862766741$ para el set de validación.\n",
    "En el paper \"Movie Reviews and Revenues: An Experiment in Text Regression\" de Mahesh Joshi et al., utilizan para resolver este problema una mezcla entre normas $\\ell_1$ y $\\ell_2$ (ridge y lasso) para la regularización de datos llamada Elastic Net. Presenta un trade-off entre las regularizaciones anteriores determinada por una valor $\\alpha\\in(0,1)$. Elastic net es útil cuando hay muchas características relacionadas unas con otras. Utilizando una lista de valores de alpha entre 0 y 1, con un trade-off de 0.9, los resultados son los siguientes."
   ]
  },
  {
   "cell_type": "code",
   "execution_count": 4,
   "metadata": {
    "collapsed": false
   },
   "outputs": [
    {
     "name": "stdout",
     "output_type": "stream",
     "text": [
      "alpha:  0.1 \n",
      "CV:  0.582906711243 \n",
      "Test:  0.581591986454\n",
      "alpha:  0.15 \n",
      "CV:  0.61529451364 \n",
      "Test:  0.587581167794\n",
      "alpha:  0.2 \n",
      "CV:  0.6153236062 \n",
      "Test:  0.583843977346\n",
      "alpha:  0.25 \n",
      "CV:  0.620626081934 \n",
      "Test:  0.597380918751\n",
      "alpha:  0.3 \n",
      "CV:  0.613923634252 \n",
      "Test:  0.598887397198\n",
      "alpha:  0.35 \n",
      "CV:  0.61522502311 \n",
      "Test:  0.599499683217\n",
      "alpha:  0.4 \n",
      "CV:  0.614935092391 \n",
      "Test:  0.599004051618\n",
      "alpha:  0.45 \n",
      "CV:  0.613434372062 \n",
      "Test:  0.598607855842\n",
      "alpha:  0.5 \n",
      "CV:  0.61280736335 \n",
      "Test:  0.599438886377\n",
      "alpha:  0.55 \n",
      "CV:  0.612180439774 \n",
      "Test:  0.599991901362\n",
      "alpha:  0.6 \n",
      "CV:  0.612638524968 \n",
      "Test:  0.601609464997\n",
      "alpha:  0.65 \n",
      "CV:  0.613473854247 \n",
      "Test:  0.603404264252\n",
      "alpha:  0.7 \n",
      "CV:  0.614258091412 \n",
      "Test:  0.605240487849\n",
      "alpha:  0.75 \n",
      "CV:  0.614637714245 \n",
      "Test:  0.606457365874\n",
      "alpha:  0.8 \n",
      "CV:  0.614764802388 \n",
      "Test:  0.607064830981\n",
      "alpha:  0.85 \n",
      "CV:  0.614957306199 \n",
      "Test:  0.607251987373\n",
      "alpha:  0.9 \n",
      "CV:  0.615353494318 \n",
      "Test:  0.607176415905\n",
      "alpha:  0.95 \n",
      "CV:  0.615897610431 \n",
      "Test:  0.606935631324\n",
      "alpha:  1.0 \n",
      "CV:  0.616433825629 \n",
      "Test:  0.606593814852\n"
     ]
    }
   ],
   "source": [
    "alpha = [0.1, 0.15,0.2,0.25,0.3,0.35,0.4,0.45,0.5,0.55,0.6,0.65,0.7,0.75,0.8,0.85,0.9,0.95,1.0]\n",
    "cr2 = []\n",
    "tr2 = []\n",
    "\n",
    "for a in alpha:\n",
    "\t# modelo con elasticnet\n",
    "\t# se calcula el valor de R2 o coeficiente de determinacion\n",
    "\tenet = lm.ElasticNet(fit_intercept = False)\n",
    "\tenet.set_params(alpha= a, l1_ratio=0.9, max_iter = 1000)\n",
    "\tenet.fit(X_train, y_train)\n",
    "\t\n",
    "\tcvR2 = enet.score(X_cv,y_cv)\n",
    "\ttestR2 = enet.score(X_test, y_test)\n",
    "\tcr2.append(cvR2)\n",
    "\ttr2.append(testR2)\n",
    "\tprint \"alpha: \",a,\"\\nCV: \",cvR2,\"\\nTest: \",testR2"
   ]
  },
  {
   "cell_type": "markdown",
   "metadata": {},
   "source": [
    "El mejor resultado obtenido con ElasticNet es un $R^2=0.620626081934$ con los parámetros $alpha=0.25$ y $l1\\_ratio=0.9$, siendo mayor al de regresión lineal. Dado ese valor de coeficiente de determinación, sacando la raiz cuadrada se obtiene un coeficiente de correlación de Pearson de 0.78779824951. Luego ploteamos los datos obtenidos para el set de cross-validation."
   ]
  },
  {
   "cell_type": "code",
   "execution_count": 5,
   "metadata": {
    "collapsed": false
   },
   "outputs": [
    {
     "data": {
      "image/png": "[encoded data removed]",
      "text/plain": [
       "<matplotlib.figure.Figure at 0x7f6430811150>"
      ]
     },
     "metadata": {},
     "output_type": "display_data"
    }
   ],
   "source": [
    "plt.plot(alpha,cr2,'ro')\n",
    "plt.xlabel(\"alpha\")\n",
    "plt.ylabel(\"R2\")\n",
    "plt.show()"
   ]
  },
  {
   "cell_type": "markdown",
   "metadata": {},
   "source": [
    "Ya que el valor más alto de $R^2$ se obtuvo con un alpha de 2.5, se dejó fijo este valor variando el ratio de trade-off entre 0 y 1."
   ]
  },
  {
   "cell_type": "code",
   "execution_count": 9,
   "metadata": {
    "collapsed": false
   },
   "outputs": [
    {
     "name": "stdout",
     "output_type": "stream",
     "text": [
      "alpha: 2.5 l1_ratio:  0.1 \n",
      "CV:  0.625514021603\n",
      "alpha: 2.5 l1_ratio:  0.15 \n",
      "CV:  0.625464181246\n",
      "alpha: 2.5 l1_ratio:  0.2 \n",
      "CV:  0.6253393734\n",
      "alpha: 2.5 l1_ratio:  0.25 \n",
      "CV:  0.62513080378\n",
      "alpha: 2.5 l1_ratio:  0.3 \n",
      "CV:  0.62484390706\n",
      "alpha: 2.5 l1_ratio:  0.35 \n",
      "CV:  0.62451696934\n",
      "alpha: 2.5 l1_ratio:  0.4 \n",
      "CV:  0.624214059892\n",
      "alpha: 2.5 l1_ratio:  0.45 \n",
      "CV:  0.623973455415\n",
      "alpha: 2.5 l1_ratio:  0.5 \n",
      "CV:  0.623793994399\n",
      "alpha: 2.5 l1_ratio:  0.55 \n",
      "CV:  0.623735057983\n",
      "alpha: 2.5 l1_ratio:  0.6 \n",
      "CV:  0.62390007526\n",
      "alpha: 2.5 l1_ratio:  0.65 \n",
      "CV:  0.624084326613\n",
      "alpha: 2.5 l1_ratio:  0.7 \n",
      "CV:  0.623686604428\n",
      "alpha: 2.5 l1_ratio:  0.75 \n",
      "CV:  0.623393196625\n",
      "alpha: 2.5 l1_ratio:  0.8 \n",
      "CV:  0.62285951029\n",
      "alpha: 2.5 l1_ratio:  0.85 \n",
      "CV:  0.621818829961\n",
      "alpha: 2.5 l1_ratio:  0.9 \n",
      "CV:  0.621875486796\n",
      "alpha: 2.5 l1_ratio:  0.95 \n",
      "CV:  0.617901624279\n",
      "alpha: 2.5 l1_ratio:  1.0 \n",
      "CV:  -0.473557076463\n"
     ]
    }
   ],
   "source": [
    "cr2 =[]\n",
    "\n",
    "for a in alpha:\n",
    "\t# modelo con elasticnet\n",
    "\t# se calcula el valor de R2 o coeficiente de determinacion\n",
    "\tenet = lm.ElasticNet(fit_intercept = False)\n",
    "\tenet.set_params(alpha= 2.5, l1_ratio=a, max_iter = 1000)\n",
    "\tenet.fit(X_train, y_train)\n",
    "\t\n",
    "\tcvR2 = enet.score(X_cv,y_cv)\n",
    "\tcr2.append(cvR2)\n",
    "\tprint \"alpha: 2.5 l1_ratio: \",a,\"\\nCV: \",cvR2"
   ]
  },
  {
   "cell_type": "code",
   "execution_count": 10,
   "metadata": {
    "collapsed": false
   },
   "outputs": [
    {
     "data": {
      "image/png": "[encoded data removed]",
      "text/plain": [
       "<matplotlib.figure.Figure at 0x7f63ed9201d0>"
      ]
     },
     "metadata": {},
     "output_type": "display_data"
    }
   ],
   "source": [
    "plt.plot(alpha,cr2,'ro')\n",
    "plt.xlabel(\"alpha\")\n",
    "plt.ylabel(\"R2\")\n",
    "plt.show()"
   ]
  },
  {
   "cell_type": "markdown",
   "metadata": {},
   "source": [
    "Con alpha 2.5 y l1 0.1 se obtuvo un mejor valor de $R^2=0.625514021603$. Con los parámetros establecidos no fue posible obtener un coeficiente de determinación cercano a 0.75."
   ]
  }
 ],
 "metadata": {
  "kernelspec": {
   "display_name": "Python 2",
   "language": "python",
   "name": "python2"
  },
  "language_info": {
   "codemirror_mode": {
    "name": "ipython",
    "version": 2
   },
   "file_extension": ".py",
   "mimetype": "text/x-python",
   "name": "python",
   "nbconvert_exporter": "python",
   "pygments_lexer": "ipython2",
   "version": "2.7.12"
  }
 },
 "nbformat": 4,
 "nbformat_minor": 1
}
